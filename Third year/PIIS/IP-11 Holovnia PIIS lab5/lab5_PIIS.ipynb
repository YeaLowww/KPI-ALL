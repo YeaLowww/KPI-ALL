{
  "cells": [
    {
      "cell_type": "code",
      "execution_count": 122,
      "metadata": {
        "colab": {
          "base_uri": "https://localhost:8080/"
        },
        "id": "d_Yb_wUaNKlG",
        "outputId": "8206ad9d-f6cd-4b43-c02f-371f7230c150"
      },
      "outputs": [
        {
          "output_type": "stream",
          "name": "stdout",
          "text": [
            "https://pestrecy-rt.ru/news/tag/list/specoperaciia/page/2\n",
            "https://pestrecy-rt.ru/news/tag/list/specoperaciia/page/3\n",
            "https://pestrecy-rt.ru/news/tag/list/specoperaciia/page/4\n",
            "https://pestrecy-rt.ru/news/tag/list/specoperaciia/page/5\n",
            "https://pestrecy-rt.ru/news/tag/list/specoperaciia/page/6\n",
            "https://pestrecy-rt.ru/news/tag/list/specoperaciia/page/7\n",
            "https://pestrecy-rt.ru/news/tag/list/specoperaciia/page/8\n",
            "https://pestrecy-rt.ru/news/tag/list/specoperaciia/page/9\n",
            "https://pestrecy-rt.ru/news/tag/list/specoperaciia/page/10\n",
            "https://pestrecy-rt.ru/news/tag/list/specoperaciia/page/11\n",
            "https://pestrecy-rt.ru/news/tag/list/specoperaciia/page/12\n",
            "https://pestrecy-rt.ru/news/tag/list/specoperaciia/page/13\n",
            "https://pestrecy-rt.ru/news/tag/list/specoperaciia/page/14\n",
            "1 Марат Нуриев\n",
            "2 Евгений Токмаков\n",
            "3 Юрия Ивановича\n",
            "4 Жена Заявки\n",
            "5 Александром Агафоновым\n",
            "6 Новое Званки\n",
            "7 Артема Прокопчука\n",
            "8 Иван Додосов\n",
            "9 Валерий Максимов\n",
            "10 Камиль Самигуллин\n",
            "11 Эдуард Вафин\n",
            "12 Эдуард Шарафиев\n",
            "13 Сергей Корчагин\n",
            "14 Ильхам Кашапов\n",
            "15 Николая Чудотворца\n",
            "16 Галина Тимофеева\n",
            "17 Ринат Садыков\n",
            "18 Сергей Шойгу\n",
            "19 Ивана Додосова\n",
            "20 Гузель Удачина\n",
            "21 Александр Владимиров\n",
            "22 Раиса Рустама\n",
            "23 Тимур Сулейманов\n",
            "24 Ильхама Кашапова\n",
            "25 Елена Корчагина\n",
            "26 Расиму Баксикову\n",
            "27 Эльмира Зарипова\n",
            "28 Рустам Минниханов\n",
            "29 Раушании Габдрахмановны\n",
            "30 Вячеслав Володин\n",
            "31 Марии Ивановны\n",
            "32 Тамара Лаптева\n",
            "33 Фаниль Аглиуллин\n",
            "34 Рафката Амировича\n",
            "35 Ильдара Насыбуллина\n",
            "36 Лейла Фазлеева\n",
            "37 Валерием Межва\n",
            "38 Рустам Сафиуллин\n",
            "39 Марс Бикбов\n",
            "40 Татьяна Голикова\n",
            "41 Фарит Валиев\n",
            "42 Виталий Беляев\n",
            "43 Альберт Ибятуллин\n"
          ]
        }
      ],
      "source": [
        "import requests\n",
        "from bs4 import BeautifulSoup\n",
        "import re\n",
        "\n",
        "url = \"https://pestrecy-rt.ru/news/tag/list/specoperaciia/\"\n",
        "response = requests.get(url)\n",
        "soup = BeautifulSoup(response.text, 'html.parser')\n",
        "\n",
        "headlines = []\n",
        "name_regex = re.compile(r'([А-ЯЁІЇЄҐ][а-яёіїєґ]+) ([А-ЯЁІЇЄҐ][а-яёіїєґ]+)')\n",
        "patterns_to_remove = {'СВО', 'PT', 'РФ', 'ВСЕ', 'Президент', 'Татарстан', 'Глава', 'Сил', 'России',\n",
        "                      'Геро', 'Родин',  'Казан', 'Житель', 'Совета', 'Указ', 'Госдум', 'Заместитель',\n",
        "                      'Защитники', 'Отделением', 'Республик', 'Госсовет',  'Пестре', 'Пенсионерка',\n",
        "                      'Минобороны', 'Жизнь', 'Священник', 'Шигалеево', 'Мама', 'Фонда', 'Главнокомандующему',\n",
        "                      'Также', 'Казни', 'Кремле', 'Верховный', 'Донбасса', 'Семье', 'Казанском', 'Около',\n",
        "                      'Волге', 'Орденом', 'Мужества', 'Мост'}\n",
        "\n",
        "for page_number in range(2, 15):\n",
        "    page_headlines = soup.find_all('h2', class_='oneNews__link news__bold-text')\n",
        "    page_paragraphs = soup.find_all('p', class_='oneNews__link')\n",
        "\n",
        "    headlines.extend(f'{headline.text.strip()}. {paragraph.text.strip()}' for headline, paragraph in zip(page_headlines, page_paragraphs))\n",
        "\n",
        "    #next_button = soup.find('a', class_='all news__button_forward', string='Далее')\n",
        "    #if not next_button:\n",
        "    #    break\n",
        "    from urllib.parse import urlparse, urlunparse\n",
        "\n",
        "    base_url = \"https://pestrecy-rt.ru/news/tag/list/specoperaciia/page/\"\n",
        "\n",
        "    next_url = f\"{base_url}{page_number}\"\n",
        "    print(next_url)\n",
        "\n",
        "    response = requests.get(next_url)\n",
        "    soup = BeautifulSoup(response.text, 'html.parser')\n",
        "    count=count+1\n",
        "\n",
        "dead_russians = set()\n",
        "\n",
        "for headline in headlines:\n",
        "    headline = ' '.join(word for word in headline.split() if not any(pattern in word for pattern in patterns_to_remove))\n",
        "    matches = name_regex.findall(headline)\n",
        "    for match in matches:\n",
        "        first_name = match[0]\n",
        "        last_name = match[1]\n",
        "        dead_russians.add(f'{first_name} {last_name}')\n",
        "count=0;\n",
        "for item in dead_russians:\n",
        "    count +=1\n",
        "    print(str(count)+\" \" + item)\n",
        "\n",
        "\n"
      ]
    },
    {
      "cell_type": "code",
      "source": [
        "from selenium import webdriver\n",
        "from selenium.webdriver.chrome.service import Service\n",
        "from selenium.webdriver.common.by import By\n",
        "from selenium.webdriver.support.ui import WebDriverWait\n",
        "from selenium.webdriver.support import expected_conditions as EC\n",
        "from bs4 import BeautifulSoup\n",
        "\n",
        "options = webdriver.ChromeOptions()\n",
        "options.add_argument('--headless')\n",
        "#!apt-get update\n",
        "#!apt install chromium-chromedriver\n",
        "#!chmod +x /usr/lib/chromium-browser/chromedriver\n",
        "#!sudo chown root:root /usr/lib/chromium-browser/chromedriver\n",
        "#!sudo chmod +x /повний/шлях/до/chromedriver\n",
        "browser = webdriver.Chrome(service=Service('/usr/lib/chromium-browser/chromedriver'), options=options)\n",
        "\n",
        "browser.get(\"https://pestrecy-rt.ru/news/tag/list/specoperaciia/\")\n",
        "\n",
        "wait = WebDriverWait(browser, 10)\n",
        "\n",
        "while True:\n",
        "    # Get the current page's HTML using BeautifulSoup\n",
        "    soup = BeautifulSoup(browser.page_source, 'html.parser')\n",
        "\n",
        "    page_headlines = soup.find_all('h2', class_='oneNews__link news__bold-text')\n",
        "    page_paragraphs = soup.find_all('p', class_='oneNews__link')\n",
        "    headlines.extend(f'{headline.text.strip()}. {paragraph.text.strip()}' for headline, paragraph in zip(page_headlines, page_paragraphs))\n",
        "\n",
        "    try:\n",
        "        # Use Selenium to click the \"Далее\" button\n",
        "        next_button = wait.until(EC.element_to_be_clickable((By.XPATH, '//a[@class=\"all news__button_forward\"]//span[contains(text(), \"Далее\")]')))\n",
        "        next_button.click()\n",
        "    except Exception:\n",
        "        # Break the loop if there's no \"Далее\" button\n",
        "        break\n",
        "\n",
        "browser.quit()\n"
      ],
      "metadata": {
        "colab": {
          "base_uri": "https://localhost:8080/",
          "height": 754
        },
        "id": "u-kU8fC9VIYe",
        "outputId": "e7b76fdf-9db8-4c3d-f48d-bf2ed804ca29"
      },
      "execution_count": 113,
      "outputs": [
        {
          "output_type": "stream",
          "name": "stdout",
          "text": [
            "chmod: cannot access '/повний/шлях/до/chromedriver': No such file or directory\n"
          ]
        },
        {
          "output_type": "error",
          "ename": "WebDriverException",
          "evalue": "ignored",
          "traceback": [
            "\u001b[0;31m---------------------------------------------------------------------------\u001b[0m",
            "\u001b[0;31mWebDriverException\u001b[0m                        Traceback (most recent call last)",
            "\u001b[0;32m<ipython-input-113-9d755f081f6b>\u001b[0m in \u001b[0;36m<cell line: 15>\u001b[0;34m()\u001b[0m\n\u001b[1;32m     13\u001b[0m \u001b[0mget_ipython\u001b[0m\u001b[0;34m(\u001b[0m\u001b[0;34m)\u001b[0m\u001b[0;34m.\u001b[0m\u001b[0msystem\u001b[0m\u001b[0;34m(\u001b[0m\u001b[0;34m'sudo chown root:root /usr/lib/chromium-browser/chromedriver'\u001b[0m\u001b[0;34m)\u001b[0m\u001b[0;34m\u001b[0m\u001b[0;34m\u001b[0m\u001b[0m\n\u001b[1;32m     14\u001b[0m \u001b[0mget_ipython\u001b[0m\u001b[0;34m(\u001b[0m\u001b[0;34m)\u001b[0m\u001b[0;34m.\u001b[0m\u001b[0msystem\u001b[0m\u001b[0;34m(\u001b[0m\u001b[0;34m'sudo chmod +x /повний/шлях/до/chromedriver'\u001b[0m\u001b[0;34m)\u001b[0m\u001b[0;34m\u001b[0m\u001b[0;34m\u001b[0m\u001b[0m\n\u001b[0;32m---> 15\u001b[0;31m \u001b[0mbrowser\u001b[0m \u001b[0;34m=\u001b[0m \u001b[0mwebdriver\u001b[0m\u001b[0;34m.\u001b[0m\u001b[0mChrome\u001b[0m\u001b[0;34m(\u001b[0m\u001b[0mservice\u001b[0m\u001b[0;34m=\u001b[0m\u001b[0mService\u001b[0m\u001b[0;34m(\u001b[0m\u001b[0;34m'/usr/lib/chromium-browser/chromedriver'\u001b[0m\u001b[0;34m)\u001b[0m\u001b[0;34m,\u001b[0m \u001b[0moptions\u001b[0m\u001b[0;34m=\u001b[0m\u001b[0moptions\u001b[0m\u001b[0;34m)\u001b[0m\u001b[0;34m\u001b[0m\u001b[0;34m\u001b[0m\u001b[0m\n\u001b[0m\u001b[1;32m     16\u001b[0m \u001b[0;34m\u001b[0m\u001b[0m\n\u001b[1;32m     17\u001b[0m \u001b[0mbrowser\u001b[0m\u001b[0;34m.\u001b[0m\u001b[0mget\u001b[0m\u001b[0;34m(\u001b[0m\u001b[0;34m\"https://pestrecy-rt.ru/news/tag/list/specoperaciia/\"\u001b[0m\u001b[0;34m)\u001b[0m\u001b[0;34m\u001b[0m\u001b[0;34m\u001b[0m\u001b[0m\n",
            "\u001b[0;32m/usr/local/lib/python3.10/dist-packages/selenium/webdriver/chrome/webdriver.py\u001b[0m in \u001b[0;36m__init__\u001b[0;34m(self, options, service, keep_alive)\u001b[0m\n\u001b[1;32m     43\u001b[0m         \u001b[0moptions\u001b[0m \u001b[0;34m=\u001b[0m \u001b[0moptions\u001b[0m \u001b[0;32mif\u001b[0m \u001b[0moptions\u001b[0m \u001b[0;32melse\u001b[0m \u001b[0mOptions\u001b[0m\u001b[0;34m(\u001b[0m\u001b[0;34m)\u001b[0m\u001b[0;34m\u001b[0m\u001b[0;34m\u001b[0m\u001b[0m\n\u001b[1;32m     44\u001b[0m \u001b[0;34m\u001b[0m\u001b[0m\n\u001b[0;32m---> 45\u001b[0;31m         super().__init__(\n\u001b[0m\u001b[1;32m     46\u001b[0m             \u001b[0mDesiredCapabilities\u001b[0m\u001b[0;34m.\u001b[0m\u001b[0mCHROME\u001b[0m\u001b[0;34m[\u001b[0m\u001b[0;34m\"browserName\"\u001b[0m\u001b[0;34m]\u001b[0m\u001b[0;34m,\u001b[0m\u001b[0;34m\u001b[0m\u001b[0;34m\u001b[0m\u001b[0m\n\u001b[1;32m     47\u001b[0m             \u001b[0;34m\"goog\"\u001b[0m\u001b[0;34m,\u001b[0m\u001b[0;34m\u001b[0m\u001b[0;34m\u001b[0m\u001b[0m\n",
            "\u001b[0;32m/usr/local/lib/python3.10/dist-packages/selenium/webdriver/chromium/webdriver.py\u001b[0m in \u001b[0;36m__init__\u001b[0;34m(self, browser_name, vendor_prefix, options, service, keep_alive)\u001b[0m\n\u001b[1;32m     54\u001b[0m \u001b[0;34m\u001b[0m\u001b[0m\n\u001b[1;32m     55\u001b[0m         \u001b[0;32mtry\u001b[0m\u001b[0;34m:\u001b[0m\u001b[0;34m\u001b[0m\u001b[0;34m\u001b[0m\u001b[0m\n\u001b[0;32m---> 56\u001b[0;31m             super().__init__(\n\u001b[0m\u001b[1;32m     57\u001b[0m                 command_executor=ChromiumRemoteConnection(\n\u001b[1;32m     58\u001b[0m                     \u001b[0mremote_server_addr\u001b[0m\u001b[0;34m=\u001b[0m\u001b[0mself\u001b[0m\u001b[0;34m.\u001b[0m\u001b[0mservice\u001b[0m\u001b[0;34m.\u001b[0m\u001b[0mservice_url\u001b[0m\u001b[0;34m,\u001b[0m\u001b[0;34m\u001b[0m\u001b[0;34m\u001b[0m\u001b[0m\n",
            "\u001b[0;32m/usr/local/lib/python3.10/dist-packages/selenium/webdriver/remote/webdriver.py\u001b[0m in \u001b[0;36m__init__\u001b[0;34m(self, command_executor, keep_alive, file_detector, options)\u001b[0m\n\u001b[1;32m    206\u001b[0m         \u001b[0mself\u001b[0m\u001b[0;34m.\u001b[0m\u001b[0m_authenticator_id\u001b[0m \u001b[0;34m=\u001b[0m \u001b[0;32mNone\u001b[0m\u001b[0;34m\u001b[0m\u001b[0;34m\u001b[0m\u001b[0m\n\u001b[1;32m    207\u001b[0m         \u001b[0mself\u001b[0m\u001b[0;34m.\u001b[0m\u001b[0mstart_client\u001b[0m\u001b[0;34m(\u001b[0m\u001b[0;34m)\u001b[0m\u001b[0;34m\u001b[0m\u001b[0;34m\u001b[0m\u001b[0m\n\u001b[0;32m--> 208\u001b[0;31m         \u001b[0mself\u001b[0m\u001b[0;34m.\u001b[0m\u001b[0mstart_session\u001b[0m\u001b[0;34m(\u001b[0m\u001b[0mcapabilities\u001b[0m\u001b[0;34m)\u001b[0m\u001b[0;34m\u001b[0m\u001b[0;34m\u001b[0m\u001b[0m\n\u001b[0m\u001b[1;32m    209\u001b[0m \u001b[0;34m\u001b[0m\u001b[0m\n\u001b[1;32m    210\u001b[0m     \u001b[0;32mdef\u001b[0m \u001b[0m__repr__\u001b[0m\u001b[0;34m(\u001b[0m\u001b[0mself\u001b[0m\u001b[0;34m)\u001b[0m\u001b[0;34m:\u001b[0m\u001b[0;34m\u001b[0m\u001b[0;34m\u001b[0m\u001b[0m\n",
            "\u001b[0;32m/usr/local/lib/python3.10/dist-packages/selenium/webdriver/remote/webdriver.py\u001b[0m in \u001b[0;36mstart_session\u001b[0;34m(self, capabilities)\u001b[0m\n\u001b[1;32m    290\u001b[0m \u001b[0;34m\u001b[0m\u001b[0m\n\u001b[1;32m    291\u001b[0m         \u001b[0mcaps\u001b[0m \u001b[0;34m=\u001b[0m \u001b[0m_create_caps\u001b[0m\u001b[0;34m(\u001b[0m\u001b[0mcapabilities\u001b[0m\u001b[0;34m)\u001b[0m\u001b[0;34m\u001b[0m\u001b[0;34m\u001b[0m\u001b[0m\n\u001b[0;32m--> 292\u001b[0;31m         \u001b[0mresponse\u001b[0m \u001b[0;34m=\u001b[0m \u001b[0mself\u001b[0m\u001b[0;34m.\u001b[0m\u001b[0mexecute\u001b[0m\u001b[0;34m(\u001b[0m\u001b[0mCommand\u001b[0m\u001b[0;34m.\u001b[0m\u001b[0mNEW_SESSION\u001b[0m\u001b[0;34m,\u001b[0m \u001b[0mcaps\u001b[0m\u001b[0;34m)\u001b[0m\u001b[0;34m[\u001b[0m\u001b[0;34m\"value\"\u001b[0m\u001b[0;34m]\u001b[0m\u001b[0;34m\u001b[0m\u001b[0;34m\u001b[0m\u001b[0m\n\u001b[0m\u001b[1;32m    293\u001b[0m         \u001b[0mself\u001b[0m\u001b[0;34m.\u001b[0m\u001b[0msession_id\u001b[0m \u001b[0;34m=\u001b[0m \u001b[0mresponse\u001b[0m\u001b[0;34m.\u001b[0m\u001b[0mget\u001b[0m\u001b[0;34m(\u001b[0m\u001b[0;34m\"sessionId\"\u001b[0m\u001b[0;34m)\u001b[0m\u001b[0;34m\u001b[0m\u001b[0;34m\u001b[0m\u001b[0m\n\u001b[1;32m    294\u001b[0m         \u001b[0mself\u001b[0m\u001b[0;34m.\u001b[0m\u001b[0mcaps\u001b[0m \u001b[0;34m=\u001b[0m \u001b[0mresponse\u001b[0m\u001b[0;34m.\u001b[0m\u001b[0mget\u001b[0m\u001b[0;34m(\u001b[0m\u001b[0;34m\"capabilities\"\u001b[0m\u001b[0;34m)\u001b[0m\u001b[0;34m\u001b[0m\u001b[0;34m\u001b[0m\u001b[0m\n",
            "\u001b[0;32m/usr/local/lib/python3.10/dist-packages/selenium/webdriver/remote/webdriver.py\u001b[0m in \u001b[0;36mexecute\u001b[0;34m(self, driver_command, params)\u001b[0m\n\u001b[1;32m    345\u001b[0m         \u001b[0mresponse\u001b[0m \u001b[0;34m=\u001b[0m \u001b[0mself\u001b[0m\u001b[0;34m.\u001b[0m\u001b[0mcommand_executor\u001b[0m\u001b[0;34m.\u001b[0m\u001b[0mexecute\u001b[0m\u001b[0;34m(\u001b[0m\u001b[0mdriver_command\u001b[0m\u001b[0;34m,\u001b[0m \u001b[0mparams\u001b[0m\u001b[0;34m)\u001b[0m\u001b[0;34m\u001b[0m\u001b[0;34m\u001b[0m\u001b[0m\n\u001b[1;32m    346\u001b[0m         \u001b[0;32mif\u001b[0m \u001b[0mresponse\u001b[0m\u001b[0;34m:\u001b[0m\u001b[0;34m\u001b[0m\u001b[0;34m\u001b[0m\u001b[0m\n\u001b[0;32m--> 347\u001b[0;31m             \u001b[0mself\u001b[0m\u001b[0;34m.\u001b[0m\u001b[0merror_handler\u001b[0m\u001b[0;34m.\u001b[0m\u001b[0mcheck_response\u001b[0m\u001b[0;34m(\u001b[0m\u001b[0mresponse\u001b[0m\u001b[0;34m)\u001b[0m\u001b[0;34m\u001b[0m\u001b[0;34m\u001b[0m\u001b[0m\n\u001b[0m\u001b[1;32m    348\u001b[0m             \u001b[0mresponse\u001b[0m\u001b[0;34m[\u001b[0m\u001b[0;34m\"value\"\u001b[0m\u001b[0;34m]\u001b[0m \u001b[0;34m=\u001b[0m \u001b[0mself\u001b[0m\u001b[0;34m.\u001b[0m\u001b[0m_unwrap_value\u001b[0m\u001b[0;34m(\u001b[0m\u001b[0mresponse\u001b[0m\u001b[0;34m.\u001b[0m\u001b[0mget\u001b[0m\u001b[0;34m(\u001b[0m\u001b[0;34m\"value\"\u001b[0m\u001b[0;34m,\u001b[0m \u001b[0;32mNone\u001b[0m\u001b[0;34m)\u001b[0m\u001b[0;34m)\u001b[0m\u001b[0;34m\u001b[0m\u001b[0;34m\u001b[0m\u001b[0m\n\u001b[1;32m    349\u001b[0m             \u001b[0;32mreturn\u001b[0m \u001b[0mresponse\u001b[0m\u001b[0;34m\u001b[0m\u001b[0;34m\u001b[0m\u001b[0m\n",
            "\u001b[0;32m/usr/local/lib/python3.10/dist-packages/selenium/webdriver/remote/errorhandler.py\u001b[0m in \u001b[0;36mcheck_response\u001b[0;34m(self, response)\u001b[0m\n\u001b[1;32m    227\u001b[0m                 \u001b[0malert_text\u001b[0m \u001b[0;34m=\u001b[0m \u001b[0mvalue\u001b[0m\u001b[0;34m[\u001b[0m\u001b[0;34m\"alert\"\u001b[0m\u001b[0;34m]\u001b[0m\u001b[0;34m.\u001b[0m\u001b[0mget\u001b[0m\u001b[0;34m(\u001b[0m\u001b[0;34m\"text\"\u001b[0m\u001b[0;34m)\u001b[0m\u001b[0;34m\u001b[0m\u001b[0;34m\u001b[0m\u001b[0m\n\u001b[1;32m    228\u001b[0m             \u001b[0;32mraise\u001b[0m \u001b[0mexception_class\u001b[0m\u001b[0;34m(\u001b[0m\u001b[0mmessage\u001b[0m\u001b[0;34m,\u001b[0m \u001b[0mscreen\u001b[0m\u001b[0;34m,\u001b[0m \u001b[0mstacktrace\u001b[0m\u001b[0;34m,\u001b[0m \u001b[0malert_text\u001b[0m\u001b[0;34m)\u001b[0m  \u001b[0;31m# type: ignore[call-arg]  # mypy is not smart enough here\u001b[0m\u001b[0;34m\u001b[0m\u001b[0;34m\u001b[0m\u001b[0m\n\u001b[0;32m--> 229\u001b[0;31m         \u001b[0;32mraise\u001b[0m \u001b[0mexception_class\u001b[0m\u001b[0;34m(\u001b[0m\u001b[0mmessage\u001b[0m\u001b[0;34m,\u001b[0m \u001b[0mscreen\u001b[0m\u001b[0;34m,\u001b[0m \u001b[0mstacktrace\u001b[0m\u001b[0;34m)\u001b[0m\u001b[0;34m\u001b[0m\u001b[0;34m\u001b[0m\u001b[0m\n\u001b[0m",
            "\u001b[0;31mWebDriverException\u001b[0m: Message: unknown error: Chrome failed to start: exited abnormally.\n  (unknown error: DevToolsActivePort file doesn't exist)\n  (The process started from chrome location /usr/bin/chromium-browser is no longer running, so ChromeDriver is assuming that Chrome has crashed.)\nStacktrace:\n#0 0x5adf972934e3 <unknown>\n#1 0x5adf96fc2c76 <unknown>\n#2 0x5adf96febd78 <unknown>\n#3 0x5adf96fe8029 <unknown>\n#4 0x5adf97026ccc <unknown>\n#5 0x5adf9702647f <unknown>\n#6 0x5adf9701dde3 <unknown>\n#7 0x5adf96ff32dd <unknown>\n#8 0x5adf96ff434e <unknown>\n#9 0x5adf972533e4 <unknown>\n#10 0x5adf972573d7 <unknown>\n#11 0x5adf97261b20 <unknown>\n#12 0x5adf97258023 <unknown>\n#13 0x5adf972261aa <unknown>\n#14 0x5adf9727c6b8 <unknown>\n#15 0x5adf9727c847 <unknown>\n#16 0x5adf9728c243 <unknown>\n#17 0x78255a52bac3 <unknown>\n"
          ]
        }
      ]
    },
    {
      "cell_type": "code",
      "source": [],
      "metadata": {
        "id": "LBKHSLXyh8zs"
      },
      "execution_count": null,
      "outputs": []
    }
  ],
  "metadata": {
    "colab": {
      "provenance": []
    },
    "kernelspec": {
      "display_name": "Python 3",
      "name": "python3"
    },
    "language_info": {
      "name": "python"
    }
  },
  "nbformat": 4,
  "nbformat_minor": 0
}