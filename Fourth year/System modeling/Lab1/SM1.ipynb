{
  "nbformat": 4,
  "nbformat_minor": 0,
  "metadata": {
    "colab": {
      "provenance": []
    },
    "kernelspec": {
      "name": "python3",
      "display_name": "Python 3"
    },
    "language_info": {
      "name": "python"
    }
  },
  "cells": [
    {
      "cell_type": "code",
      "execution_count": 5,
      "metadata": {
        "colab": {
          "base_uri": "https://localhost:8080/",
          "height": 503
        },
        "id": "Nxf4NhLMoMq4",
        "outputId": "4dd927b9-e93c-4272-8e63-fb53b0e25471"
      },
      "outputs": [
        {
          "output_type": "stream",
          "name": "stdout",
          "text": [
            "Mean - 0.5024824883311987 , Expected: 0.5\n",
            "Variance - 0.0823831485751581 , Expected: 0.08333333333333333\n",
            "Xi - 37.420105431524924\n",
            "\n"
          ]
        },
        {
          "output_type": "display_data",
          "data": {
            "text/plain": [
              "<Figure size 640x480 with 1 Axes>"
            ],
            "image/png": "[encoded data removed]"
          },
          "metadata": {}
        }
      ],
      "source": [
        "import numpy as np\n",
        "from scipy import special\n",
        "from matplotlib import pyplot as plt\n",
        "\n",
        "from random import uniform\n",
        "from math import log\n",
        "\n",
        "def exp_rand(l):\n",
        "    c = uniform(0, 1)\n",
        "    return - (log(c) / l)\n",
        "\n",
        "\n",
        "def normal_rand(std, mean):\n",
        "    m = sum((uniform(0, 1) for i in range(12))) - 6\n",
        "    return std * m + mean\n",
        "##############################################################\n",
        "if __name__ == '__main__':\n",
        "    ##### Exponential\n",
        "    # n = 10000\n",
        "    # for l in np.arange(0.1, 1.1, 0.1):\n",
        "    #     dst = [exp_rand(l) for i in range(n)]\n",
        "    #     res = plt.hist(dst, bins=30)\n",
        "    #     data, edges, _ = res\n",
        "    #     F = 1 - np.exp(- l * edges)\n",
        "    #     estimate = n * (F[1:] - F[:-1])\n",
        "    #     xi = np.sum(((data - estimate) ** 2) / estimate)\n",
        "    #     mean, variance = np.mean(dst), np.var(dst)\n",
        "    #     print('Lambda -', l)\n",
        "    #     print('Mean -', mean, ', Expected:', 1 / l)\n",
        "    #     print('Variance -', variance, ', Expected:', 1 / l ** 2)\n",
        "    #     print('Xi -', xi)\n",
        "    #     print()\n",
        "    #     plt.show()\n",
        "\n",
        "    ###### Gaussian\n",
        "    # n = 10000\n",
        "    # std = 1\n",
        "    # m = 0\n",
        "    # dst = [normal_rand(std, m) for i in range(n)]\n",
        "    # res = plt.hist(dst, bins=30)\n",
        "    # data, edges, _ = res\n",
        "    # v = (edges - m) / (std * np.sqrt(2))\n",
        "    # F = 0.5 * (1 + special.erf(v))\n",
        "    # estimate = n * (F[1:] - F[:-1])\n",
        "    # xi = np.sum(((data - estimate) ** 2) / estimate)\n",
        "    # mean, variance = np.mean(dst), np.var(dst)\n",
        "    # print('Mean -', mean, ', Expected:', m)\n",
        "    # print('Variance -', variance, ', Expected:', std**2)\n",
        "    # print('Xi -', xi)\n",
        "    # print()\n",
        "    # plt.show()\n",
        "\n",
        "    ###### Uniform\n",
        "    n = 10000\n",
        "    z = 100\n",
        "    a = 5 ** 13\n",
        "    c = 2 ** 31\n",
        "    values = []\n",
        "    for i in range(n):\n",
        "        z = (a * z) % c\n",
        "        x = z / c\n",
        "        values.append(x)\n",
        "    values = np.array(values)\n",
        "    res = plt.hist(values, bins=30)\n",
        "    data, edges, _ = res\n",
        "    estimate = n * (edges[1:] - edges[:-1])\n",
        "    xi = np.sum(((data - estimate) ** 2) / estimate)\n",
        "    mean, variance = np.mean(values), np.var(values)\n",
        "    print('Mean -', mean, ', Expected:', 0.5)\n",
        "    print('Variance -', variance, ', Expected:', 1/12)\n",
        "    print('Xi -', xi)\n",
        "    print()\n",
        "    plt.show()"
      ]
    }
  ]
}