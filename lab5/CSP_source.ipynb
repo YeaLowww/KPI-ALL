{
  "nbformat": 4,
  "nbformat_minor": 0,
  "metadata": {
    "colab": {
      "provenance": [],
      "toc_visible": true
    },
    "kernelspec": {
      "name": "python3",
      "display_name": "Python 3"
    },
    "language_info": {
      "name": "python"
    }
  },
  "cells": [
    {
      "cell_type": "markdown",
      "source": [
        "# Базовий фреймворк для задач задоволення обмежень"
      ],
      "metadata": {
        "id": "ENXwfZndcc4D"
      }
    },
    {
      "cell_type": "markdown",
      "source": [
        "Базова модель задачі задоволення обмежень:"
      ],
      "metadata": {
        "id": "cU6aG_tpcEKU"
      }
    },
    {
      "cell_type": "code",
      "execution_count": 1,
      "metadata": {
        "id": "h5iBKt3wqje8"
      },
      "outputs": [],
      "source": [
        "# csp.py\n",
        "# From Classic Computer Science Problems in Python Chapter 3\n",
        "# Copyright 2018 David Kopec\n",
        "#\n",
        "# Licensed under the Apache License, Version 2.0 (the \"License\");\n",
        "# you may not use this file except in compliance with the License.\n",
        "# You may obtain a copy of the License at\n",
        "#\n",
        "# http://www.apache.org/licenses/LICENSE-2.0\n",
        "#\n",
        "# Unless required by applicable law or agreed to in writing, software\n",
        "# distributed under the License is distributed on an \"AS IS\" BASIS,\n",
        "# WITHOUT WARRANTIES OR CONDITIONS OF ANY KIND, either express or implied.\n",
        "# See the License for the specific language governing permissions and\n",
        "# limitations under the License.\n",
        "from typing import Generic, TypeVar, Dict, List, Optional\n",
        "from abc import ABC, abstractmethod\n",
        "\n",
        "V = TypeVar('V') # variable type\n",
        "D = TypeVar('D') # domain type\n",
        "\n",
        "\n",
        "# Base class for all constraints\n",
        "class Constraint(Generic[V, D], ABC):\n",
        "    # The variables that the constraint is between\n",
        "    def __init__(self, variables: List[V]) -> None:\n",
        "        self.variables = variables\n",
        "\n",
        "    # Must be overridden by subclasses\n",
        "    @abstractmethod\n",
        "    def satisfied(self, assignment: Dict[V, D]) -> bool:\n",
        "        ...\n",
        "\n",
        "\n",
        "# A constraint satisfaction problem consists of variables of type V\n",
        "# that have ranges of values known as domains of type D and constraints\n",
        "# that determine whether a particular variable's domain selection is valid\n",
        "class CSP(Generic[V, D]):\n",
        "    def __init__(self, variables: List[V], domains: Dict[V, List[D]]) -> None:\n",
        "        self.variables: List[V] = variables # variables to be constrained\n",
        "        self.domains: Dict[V, List[D]] = domains # domain of each variable\n",
        "        self.constraints: Dict[V, List[Constraint[V, D]]] = {}\n",
        "        for variable in self.variables:\n",
        "            self.constraints[variable] = []\n",
        "            if variable not in self.domains:\n",
        "                raise LookupError(\"Every variable should have a domain assigned to it.\")\n",
        "\n",
        "    def add_constraint(self, constraint: Constraint[V, D]) -> None:\n",
        "        for variable in constraint.variables:\n",
        "            if variable not in self.variables:\n",
        "                raise LookupError(\"Variable in constraint not in CSP\")\n",
        "            else:\n",
        "                self.constraints[variable].append(constraint)\n",
        "\n",
        "    # Check if the value assignment is consistent by checking all constraints\n",
        "    # for the given variable against it\n",
        "    def consistent(self, variable: V, assignment: Dict[V, D]) -> bool:\n",
        "        for constraint in self.constraints[variable]:\n",
        "            if not constraint.satisfied(assignment):\n",
        "                return False\n",
        "        return True\n",
        "    def backtracking_search(self, assignment: Dict[V, D] = {}) -> Optional[Dict[V, D]]:\n",
        "        # assignment is complete if every variable is assigned (our base case)\n",
        "        if len(assignment) == len(self.variables):\n",
        "            return assignment\n",
        "\n",
        "        # get all variables in the CSP but not in the assignment\n",
        "        unassigned: List[V] = [v for v in self.variables if v not in assignment]\n",
        "\n",
        "        # get the every possible domain value of the first unassigned variable\n",
        "        first: V = unassigned[0]\n",
        "        for value in self.domains[first]:\n",
        "            local_assignment = assignment.copy()\n",
        "            local_assignment[first] = value\n",
        "            # if we're still consistent, we recurse (continue)\n",
        "            if self.consistent(first, local_assignment):\n",
        "                result: Optional[Dict[V, D]] = self.backtracking_search(local_assignment)\n",
        "                # if we didn't find the result, we will end up backtracking\n",
        "                if result is not None:\n",
        "                    return result\n",
        "        return None\n",
        ""
      ]
    },
    {
      "cell_type": "markdown",
      "source": [
        "Базовий метод - пошук з поверненнями(backtracking):"
      ],
      "metadata": {
        "id": "I4ocqacEbfzR"
      }
    },
    {
      "cell_type": "code",
      "source": [],
      "metadata": {
        "id": "3vcW5C3LbfSH"
      },
      "execution_count": null,
      "outputs": []
    },
    {
      "cell_type": "markdown",
      "source": [
        "Повертається перше знайдене рішення!"
      ],
      "metadata": {
        "id": "GzuFwt1BbtLM"
      }
    },
    {
      "cell_type": "markdown",
      "source": [
        "# Задача розфарбовування карти"
      ],
      "metadata": {
        "id": "Bn9pSeWEZ-r1"
      }
    },
    {
      "cell_type": "markdown",
      "source": [
        "Реалізація обмеження задачі:"
      ],
      "metadata": {
        "id": "5_rFl6uTay_0"
      }
    },
    {
      "cell_type": "code",
      "source": [
        "class MapColoringConstraint(Constraint[str, str]):\n",
        "    def __init__(self, place1: str, place2: str) -> None:\n",
        "        super().__init__([place1, place2])\n",
        "        self.place1: str = place1\n",
        "        self.place2: str = place2\n",
        "\n",
        "    def satisfied(self, assignment: Dict[str, str]) -> bool:\n",
        "        # If either place is not in the assignment then it is not\n",
        "        # yet possible for their colors to be conflicting\n",
        "        if self.place1 not in assignment or self.place2 not in assignment:\n",
        "            return True\n",
        "        # check the color assigned to place1 is not the same as the\n",
        "        # color assigned to place2\n",
        "        return assignment[self.place1] != assignment[self.place2]"
      ],
      "metadata": {
        "id": "sU8KrIPoqnR3"
      },
      "execution_count": null,
      "outputs": []
    },
    {
      "cell_type": "markdown",
      "source": [
        "Рішення для Австралії:"
      ],
      "metadata": {
        "id": "giEhIw1ua6kb"
      }
    },
    {
      "cell_type": "code",
      "source": [
        "    variables: List[str] = [\"Western Australia\", \"Northern Territory\", \"South Australia\",\n",
        "                            \"Queensland\", \"New South Wales\", \"Victoria\", \"Tasmania\"]\n",
        "    domains: Dict[str, List[str]] = {}\n",
        "    for variable in variables:\n",
        "        domains[variable] = [\"red\", \"green\", \"blue\", \"pink\"]\n",
        "    csp: CSP[str, str] = CSP(variables, domains)\n",
        "    csp.add_constraint(MapColoringConstraint(\"Western Australia\", \"Northern Territory\"))\n",
        "    csp.add_constraint(MapColoringConstraint(\"Western Australia\", \"South Australia\"))\n",
        "    csp.add_constraint(MapColoringConstraint(\"South Australia\", \"Northern Territory\"))\n",
        "    csp.add_constraint(MapColoringConstraint(\"Queensland\", \"Northern Territory\"))\n",
        "    csp.add_constraint(MapColoringConstraint(\"Queensland\", \"South Australia\"))\n",
        "    csp.add_constraint(MapColoringConstraint(\"Queensland\", \"New South Wales\"))\n",
        "    csp.add_constraint(MapColoringConstraint(\"New South Wales\", \"South Australia\"))\n",
        "    csp.add_constraint(MapColoringConstraint(\"Victoria\", \"South Australia\"))\n",
        "    csp.add_constraint(MapColoringConstraint(\"Victoria\", \"New South Wales\"))\n",
        "    csp.add_constraint(MapColoringConstraint(\"Victoria\", \"Tasmania\"))\n",
        "    solution: Optional[Dict[str, str]] = csp.backtracking_search()\n",
        "    if solution is None:\n",
        "        print(\"No solution found!\")\n",
        "    else:\n",
        "        print(solution)"
      ],
      "metadata": {
        "colab": {
          "base_uri": "https://localhost:8080/"
        },
        "id": "9PthyPyua4uT",
        "outputId": "c0af2d8b-8725-47a7-aa76-a0de57498080"
      },
      "execution_count": null,
      "outputs": [
        {
          "output_type": "stream",
          "name": "stdout",
          "text": [
            "{'Western Australia': 'red', 'Northern Territory': 'green', 'South Australia': 'blue', 'Queensland': 'red', 'New South Wales': 'green', 'Victoria': 'red', 'Tasmania': 'green'}\n"
          ]
        }
      ]
    },
    {
      "cell_type": "markdown",
      "source": [
        "# Задача з ферзями"
      ],
      "metadata": {
        "id": "DMG9DvpvaZWy"
      }
    },
    {
      "cell_type": "markdown",
      "source": [
        "Реалізація обмеження задачі:"
      ],
      "metadata": {
        "id": "fZ3MdVZzarbG"
      }
    },
    {
      "cell_type": "code",
      "source": [
        "class QueensConstraint(Constraint[int, int]):\n",
        "    def __init__(self, columns: List[int]) -> None:\n",
        "        super().__init__(columns)\n",
        "        self.columns: List[int] = columns\n",
        "\n",
        "    def satisfied(self, assignment: Dict[int, int]) -> bool:\n",
        "        # q1c = queen 1 column, q1r = queen 1 row\n",
        "        for q1c, q1r in assignment.items():\n",
        "            # q2c = queen 2 column\n",
        "            for q2c in range(q1c + 1, len(self.columns) + 1):\n",
        "                if q2c in assignment:\n",
        "                    q2r: int = assignment[q2c] # q2r = queen 2 row\n",
        "                    if q1r == q2r: # same row?\n",
        "                        return False\n",
        "                    if abs(q1r - q2r) == abs(q1c - q2c): # same diagonal?\n",
        "                        return False\n",
        "        return True # no conflict"
      ],
      "metadata": {
        "id": "_AB5A_fgqu55"
      },
      "execution_count": 2,
      "outputs": []
    },
    {
      "cell_type": "markdown",
      "source": [
        "Рішення:"
      ],
      "metadata": {
        "id": "eaABKhDFbGZz"
      }
    },
    {
      "cell_type": "code",
      "source": [
        "    columns: List[int] = [1, 2, 3, 4, 5, 6, 7, 8]\n",
        "    rows: Dict[int, List[int]] = {}\n",
        "    for column in columns:\n",
        "        rows[column] = [1, 2, 3, 4, 5, 6, 7, 8]\n",
        "    csp: CSP[int, int] = CSP(columns, rows)\n",
        "    csp.add_constraint(QueensConstraint(columns))\n",
        "    solution: Optional[Dict[int, int]] = csp.backtracking_search()\n",
        "    if solution is None:\n",
        "        print(\"No solution found!\")\n",
        "    else:\n",
        "        print(solution)"
      ],
      "metadata": {
        "id": "staBba5pq6pH",
        "colab": {
          "base_uri": "https://localhost:8080/"
        },
        "outputId": "1ac9da38-25c0-4cf7-caff-cddd15f91667"
      },
      "execution_count": 4,
      "outputs": [
        {
          "output_type": "stream",
          "name": "stdout",
          "text": [
            "{1: 1, 2: 5, 3: 8, 4: 6, 5: 3, 6: 7, 7: 2, 8: 4}\n"
          ]
        }
      ]
    },
    {
      "cell_type": "code",
      "source": [],
      "metadata": {
        "id": "lA23s_FQbX3c"
      },
      "execution_count": null,
      "outputs": []
    }
  ]
}